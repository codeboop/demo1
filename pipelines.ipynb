{
 "cells": [
  {
   "cell_type": "code",
   "execution_count": 1,
   "metadata": {},
   "outputs": [],
   "source": [
    "from formulallm.pipelines import OllamaQAPipeline, OllamaMultiQAPipeline"
   ]
  },
  {
   "cell_type": "code",
   "execution_count": 2,
   "metadata": {},
   "outputs": [],
   "source": [
    "oqap = OllamaQAPipeline()"
   ]
  },
  {
   "cell_type": "code",
   "execution_count": 4,
   "metadata": {},
   "outputs": [
    {
     "name": "stdout",
     "output_type": "stream",
     "text": [
      "Loaded 2 new documents\n",
      "Split into 46 chunks of text (max. 512 tokens each)\n"
     ]
    },
    {
     "name": "stderr",
     "output_type": "stream",
     "text": [
      "OllamaEmbeddings: 100%|████████████████████████████████████████| 46/46 [14:33<00:00, 18.99s/it]\n",
      "OllamaEmbeddings: 100%|██████████████████████████████████████████| 1/1 [00:11<00:00, 11.51s/it]\n"
     ]
    },
    {
     "name": "stdout",
     "output_type": "stream",
     "text": [
      " The speeds associated with Craig Breedlove, along with their respective dates, are as follows:\n",
      "- 576.553 mph on 11/7/65\n",
      "- 600.601 mph on 11/15/65\n"
     ]
    }
   ],
   "source": [
    "file = r'/Users/sunnybhatt/Desktop/FormulaLLMPY/examples/example/example.pdf'\n",
    "parsing_instructions = \"\"\"\n",
    "1. **Example 1: Pet Survey**:\n",
    "   - Extract the list of pets and their counts following \"Here are the results.\".\n",
    "\n",
    "2. **Example 2: Electromagnets—Increasing Coils**:\n",
    "   - Extract the number of coils and corresponding number of paperclips following \"Number of Coils\".\n",
    "\n",
    "3. **Example 3: pH of Substances**:\n",
    "   - Extract the substances and their pH values following \"The following are pH values of common household substances\".\n",
    "\n",
    "4. **Example 4: Automobile Land Speed Records**:\n",
    "   - Extract the speed, driver, car, engine, and date for each record following \"recorded the following land speed records\".\n",
    "\n",
    "5. **Example 5: Distance and Time**:\n",
    "   - Extract the time (drops of water) and corresponding distance (cm) following \"Create a data table with an average distance column\".\n",
    "\"\"\"\n",
    "\n",
    "question = \"Could you extrtact the Speed (mph) associated with Craig Breedlove and give the date as well from the pdf document?\"\n",
    "oqap.load_document(file, parsing_instructions)\n",
    "res = oqap.run(question)\n",
    "print(res)"
   ]
  },
  {
   "cell_type": "markdown",
   "metadata": {},
   "source": [
    "# source_path = r'/Users/sunnybhatt/Desktop/FormulaLLMPY/examples/example/Example.pdf'\n",
    "question = \"Can you summarize what is in the files given the following contexts?\"\n",
    "omqap.load_documents(source_path)\n",
    "res = omqap.run(question)\n",
    "print(res)"
   ]
  },
  {
   "cell_type": "code",
   "execution_count": 5,
   "metadata": {},
   "outputs": [],
   "source": [
    "omqap = OllamaMultiQAPipeline()"
   ]
  },
  {
   "cell_type": "code",
   "execution_count": null,
   "metadata": {},
   "outputs": [],
   "source": [
    "imgs = [r'/path/to/image1.jpg', r'/path/to/image2.jpg']\n",
    "question = \"What is being shown in the image?\"\n",
    "res = oqap.run_multi_modal(imgs, question)\n",
    "print(res)"
   ]
  },
  {
   "cell_type": "code",
   "execution_count": 7,
   "metadata": {},
   "outputs": [],
   "source": [
    "omqap = OllamaMultiQAPipeline(multi_modal_temp=0.8,\n",
    "                              num_thread=12,\n",
    "                              num_ctx=4096,\n",
    "                              top_k=100,\n",
    "                              top_p=0.95)"
   ]
  },
  {
   "cell_type": "code",
   "execution_count": null,
   "metadata": {},
   "outputs": [],
   "source": [
    "image = r'/path/to/image1.png'\n",
    "source_path = r'/path/to/file/folder'\n",
    "prompt = r'What is being show in this image?'\n",
    "omqap.load_documents(source_path)\n",
    "omqap.extract_image_data(image, prompt)"
   ]
  },
  {
   "cell_type": "code",
   "execution_count": null,
   "metadata": {},
   "outputs": [],
   "source": [
    "source_path = r'/path/to/file/folder'\n",
    "prompt = \"Can you summarize what is in the files given the following contexts?\"\n",
    "# Use larger chunk size for bigger files.\n",
    "omqap.load_documents(source_path=source_path, chunk_size=4096)\n",
    "omqap.extract_data(prompt)"
   ]
  },
  {
   "cell_type": "code",
   "execution_count": null,
   "metadata": {},
   "outputs": [],
   "source": []
  }
 ],
 "metadata": {
  "kernelspec": {
   "display_name": "Python 3 (ipykernel)",
   "language": "python",
   "name": "python3"
  },
  "language_info": {
   "codemirror_mode": {
    "name": "ipython",
    "version": 3
   },
   "file_extension": ".py",
   "mimetype": "text/x-python",
   "name": "python",
   "nbconvert_exporter": "python",
   "pygments_lexer": "ipython3",
   "version": "3.10.14"
  }
 },
 "nbformat": 4,
 "nbformat_minor": 4
}
